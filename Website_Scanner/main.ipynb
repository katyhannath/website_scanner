{
 "cells": [
  {
   "cell_type": "code",
   "execution_count": 6,
   "metadata": {},
   "outputs": [
    {
     "ename": "NameError",
     "evalue": "name 'get_domain_name' is not defined",
     "output_type": "error",
     "traceback": [
      "\u001b[0;31m---------------------------------------------------------------------------\u001b[0m",
      "\u001b[0;31mNameError\u001b[0m                                 Traceback (most recent call last)",
      "\u001b[0;32m<ipython-input-6-ec8623395b03>\u001b[0m in \u001b[0;36m<module>\u001b[0;34m\u001b[0m\n\u001b[1;32m     27\u001b[0m     \u001b[0mwrite_file\u001b[0m\u001b[0;34m(\u001b[0m\u001b[0mproject_dir\u001b[0m \u001b[0;34m+\u001b[0m \u001b[0;34m'/whois'\u001b[0m\u001b[0;34m,\u001b[0m \u001b[0mwhois\u001b[0m\u001b[0;34m)\u001b[0m\u001b[0;34m\u001b[0m\u001b[0;34m\u001b[0m\u001b[0m\n\u001b[1;32m     28\u001b[0m \u001b[0;34m\u001b[0m\u001b[0m\n\u001b[0;32m---> 29\u001b[0;31m \u001b[0mprint\u001b[0m\u001b[0;34m(\u001b[0m\u001b[0mgather_info\u001b[0m\u001b[0;34m(\u001b[0m\u001b[0;34m'Augeosai'\u001b[0m\u001b[0;34m,\u001b[0m \u001b[0;34m'https://www.augeosai.com/'\u001b[0m\u001b[0;34m)\u001b[0m\u001b[0;34m)\u001b[0m\u001b[0;34m\u001b[0m\u001b[0;34m\u001b[0m\u001b[0m\n\u001b[0m",
      "\u001b[0;32m<ipython-input-6-ec8623395b03>\u001b[0m in \u001b[0;36mgather_info\u001b[0;34m(name, url)\u001b[0m\n\u001b[1;32m     11\u001b[0m \u001b[0;34m\u001b[0m\u001b[0m\n\u001b[1;32m     12\u001b[0m \u001b[0;32mdef\u001b[0m \u001b[0mgather_info\u001b[0m\u001b[0;34m(\u001b[0m\u001b[0mname\u001b[0m\u001b[0;34m,\u001b[0m \u001b[0murl\u001b[0m\u001b[0;34m)\u001b[0m\u001b[0;34m:\u001b[0m\u001b[0;34m\u001b[0m\u001b[0;34m\u001b[0m\u001b[0m\n\u001b[0;32m---> 13\u001b[0;31m     \u001b[0mdomain_name\u001b[0m \u001b[0;34m=\u001b[0m \u001b[0mget_domain_name\u001b[0m\u001b[0;34m(\u001b[0m\u001b[0murl\u001b[0m\u001b[0;34m)\u001b[0m\u001b[0;34m\u001b[0m\u001b[0;34m\u001b[0m\u001b[0m\n\u001b[0m\u001b[1;32m     14\u001b[0m     \u001b[0mip_address\u001b[0m  \u001b[0;34m=\u001b[0m \u001b[0mget_ip_address\u001b[0m\u001b[0;34m(\u001b[0m\u001b[0murl\u001b[0m\u001b[0;34m)\u001b[0m\u001b[0;34m\u001b[0m\u001b[0;34m\u001b[0m\u001b[0m\n\u001b[1;32m     15\u001b[0m     \u001b[0mnmap\u001b[0m        \u001b[0;34m=\u001b[0m \u001b[0mget_nmap\u001b[0m\u001b[0;34m(\u001b[0m\u001b[0;34m'-A'\u001b[0m\u001b[0;34m,\u001b[0m \u001b[0mdomain_name\u001b[0m\u001b[0;34m)\u001b[0m\u001b[0;34m\u001b[0m\u001b[0;34m\u001b[0m\u001b[0m\n",
      "\u001b[0;31mNameError\u001b[0m: name 'get_domain_name' is not defined"
     ]
    }
   ],
   "source": [
    "#!/usr/bin/env python3\n",
    "from general import *\n",
    "from domain_name import *\n",
    "from ip_address import *\n",
    "from nmap import *\n",
    "# from robots import *\n",
    "from whois import *  #These are bad coding practice, don't try these in actual production environments\n",
    "\n",
    "ROOT_DIR = 'companies'\n",
    "create_dir(ROOT_DIR)\n",
    "\n",
    "def gather_info(name, url):\n",
    "    domain_name = get_domain_name(url)\n",
    "    ip_address  = get_ip_address(url)\n",
    "    nmap        = get_nmap('-A', domain_name)\n",
    "    # robots      = get_robots(url)\n",
    "    whois       = get_whois(domain_name)\n",
    "    create_report(name, url, domain_name, nmap, whois)\n",
    "\n",
    "def create_report(name, full_url, domain_name, nmap, whois):\n",
    "    project_dir = ROOT_DIR + '/' + name\n",
    "    create_dir(project_dir)\n",
    "    write_file(project_dir + '/full_url', full_url)\n",
    "    write_file(project_dir + '/domain_name', domain_name)\n",
    "    write_file(project_dir + '/nmap', nmap)\n",
    "    # write_file(project_dir + '/robots', robots)\n",
    "    write_file(project_dir + '/whois', whois)\n",
    "\n",
    "print(gather_info('Augeosai', 'https://www.augeosai.com/'))"
   ]
  },
  {
   "cell_type": "code",
   "execution_count": null,
   "metadata": {},
   "outputs": [],
   "source": []
  }
 ],
 "metadata": {
  "kernelspec": {
   "display_name": "Python 3",
   "language": "python",
   "name": "python3"
  },
  "language_info": {
   "codemirror_mode": {
    "name": "ipython",
    "version": 3
   },
   "file_extension": ".py",
   "mimetype": "text/x-python",
   "name": "python",
   "nbconvert_exporter": "python",
   "pygments_lexer": "ipython3",
   "version": "3.7.1"
  }
 },
 "nbformat": 4,
 "nbformat_minor": 2
}
